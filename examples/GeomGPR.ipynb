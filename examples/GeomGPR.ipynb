{
 "cells": [
  {
   "cell_type": "code",
   "execution_count": 1,
   "metadata": {
    "collapsed": true
   },
   "outputs": [
    {
     "name": "stderr",
     "output_type": "stream",
     "text": [
      "INFO: Using numpy backend\n"
     ]
    }
   ],
   "source": [
    "from src.spaces import Grassmannian, OrientedGrassmannian, HyperbolicSpace, SO, \\\n",
    "    SymmetricPositiveDefiniteMatrices, Sphere, Stiefel, SU\n",
    "from src.spectral_kernel import RandomSpectralKernel, EigenbasisSumKernel, RandomFourierFeatureKernel, RandomPhaseKernel\n",
    "from src.prior_approximation import RandomPhaseApproximation, RandomFourierApproximation\n",
    "from src.spectral_measure import MaternSpectralMeasure, SqExpSpectralMeasure\n",
    "from examples.gpr_model import ExactGPModel, train\n",
    "from torch.nn import MSELoss\n",
    "from torch.autograd.functional import _vmap as vmap\n",
    "import gpytorch\n",
    "import torch\n",
    "import sys, os"
   ]
  },
  {
   "cell_type": "code",
   "execution_count": 2,
   "outputs": [],
   "source": [
    "sys.setrecursionlimit(2000)\n",
    "os.environ[\"KMP_DUPLICATE_LIB_OK\"]=\"TRUE\"\n",
    "torch.autograd.set_detect_anomaly(True)\n",
    "dtype = torch.float64\n",
    "device = 'cuda' if torch.cuda.is_available() else 'cpu'\n",
    "%matplotlib widget\n"
   ],
   "metadata": {
    "collapsed": false,
    "pycharm": {
     "name": "#%%\n"
    }
   }
  },
  {
   "cell_type": "code",
   "execution_count": 3,
   "outputs": [],
   "source": [
    "# choose some space\n",
    "#n, m = 3, 1\n",
    "#space = Grassmannian(n, m, order=10, average_order=10)\n",
    "n, m = 3, 3\n",
    "space = SO(n, order=10)"
   ],
   "metadata": {
    "collapsed": false,
    "pycharm": {
     "name": "#%%\n"
    }
   }
  },
  {
   "cell_type": "code",
   "execution_count": 4,
   "outputs": [],
   "source": [
    "def f(x):\n",
    "    dist = space.pairwise_dist(x, space.id.view(-1, *space.id.shape)).squeeze()\n",
    "    return torch.sin(dist)"
   ],
   "metadata": {
    "collapsed": false,
    "pycharm": {
     "name": "#%%\n"
    }
   }
  },
  {
   "cell_type": "code",
   "execution_count": 5,
   "outputs": [],
   "source": [
    "#configure kernel\n",
    "\n",
    "lengthscale, nu, variance = 1.0, 5.0 + space.dim, 1.0\n",
    "measure = SqExpSpectralMeasure(space.dim, lengthscale, variance=variance)\n",
    "#self.measure = MaternSpectralMeasure(self.space.dim, self.lengthscale, self.nu)\n",
    "\n",
    "kernel = EigenbasisSumKernel(measure, space)\n",
    "#kernel = RandomPhaseKernel(measure, space, phase_order=10)\n",
    "\n",
    "kernel_ = EigenbasisSumKernel(measure, space)\n",
    "sampler = RandomPhaseApproximation(kernel_)"
   ],
   "metadata": {
    "collapsed": false,
    "pycharm": {
     "name": "#%%\n"
    }
   }
  },
  {
   "cell_type": "code",
   "execution_count": 6,
   "outputs": [],
   "source": [
    "n_train, n_test = 50, 100\n",
    "train_x, test_x = space.rand(n_train), space.rand(n_test)\n",
    "train_y, test_y = f(train_x), f(test_x)\n",
    "\n",
    "train_x, test_x = train_x.reshape(n_train, -1), test_x.reshape(n_test, -1)"
   ],
   "metadata": {
    "collapsed": false,
    "pycharm": {
     "name": "#%%\n"
    }
   }
  },
  {
   "cell_type": "code",
   "execution_count": 7,
   "outputs": [
    {
     "name": "stderr",
     "output_type": "stream",
     "text": [
      "C:\\Users\\Iskander\\anaconda3\\envs\\geomkernel\\lib\\site-packages\\gpytorch\\lazy\\triangular_lazy_tensor.py:130: UserWarning: torch.triangular_solve is deprecated in favor of torch.linalg.solve_triangularand will be removed in a future PyTorch release.\n",
      "torch.linalg.solve_triangular has its arguments reversed and does not return a copy of one of the inputs.\n",
      "X = torch.triangular_solve(B, A).solution\n",
      "should be replaced with\n",
      "X = torch.linalg.solve_triangular(A, B). (Triggered internally at  C:\\actions-runner\\_work\\pytorch\\pytorch\\builder\\windows\\pytorch\\aten\\src\\ATen\\native\\BatchLinearAlgebra.cpp:1672.)\n",
      "  res = torch.triangular_solve(right_tensor, self.evaluate(), upper=self.upper).solution\n"
     ]
    },
    {
     "name": "stdout",
     "output_type": "stream",
     "text": [
      "Iter 300/900 - Loss: -0.209   lengthscale: 1.230 variance: 0.658   noise: 0.001\n",
      "Iter 600/900 - Loss: -0.209   lengthscale: 1.230 variance: 0.658   noise: 0.001\n",
      "Iter 900/900 - Loss: -0.209   lengthscale: 1.230 variance: 0.658   noise: 0.001\n"
     ]
    }
   ],
   "source": [
    "# train model\n",
    "likelihood = gpytorch.likelihoods.GaussianLikelihood()\n",
    "model = ExactGPModel(train_x, train_y, likelihood, kernel, space, point_shape=(n, m)).to(device=device)\n",
    "train(model, train_x, train_y, 900, 300)"
   ],
   "metadata": {
    "collapsed": false,
    "pycharm": {
     "name": "#%%\n"
    }
   }
  },
  {
   "cell_type": "code",
   "execution_count": 8,
   "outputs": [
    {
     "name": "stdout",
     "output_type": "stream",
     "text": [
      "prediction mse error: tensor(0.0035, dtype=torch.float64)\n",
      "data variance: tensor(0.3996, device='cuda:0', dtype=torch.float64)\n"
     ]
    }
   ],
   "source": [
    "model.eval()\n",
    "with torch.no_grad(), gpytorch.settings.skip_posterior_variances(state=True):\n",
    "    pred_f = model(test_x)\n",
    "pred_y = pred_f.mean\n",
    "error = MSELoss()(pred_y, test_y)\n",
    "print(\"prediction mse error:\", error.detach().cpu())\n",
    "print(\"data variance:\", torch.var(test_y))"
   ],
   "metadata": {
    "collapsed": false,
    "pycharm": {
     "name": "#%%\n"
    }
   }
  },
  {
   "cell_type": "code",
   "execution_count": 9,
   "outputs": [
    {
     "name": "stdout",
     "output_type": "stream",
     "text": [
      "Iter 300/900 - Loss: -0.155   lengthscale: 2.984 variance: 1.988   noise: 0.000\n",
      "Iter 600/900 - Loss: -0.156   lengthscale: 2.969 variance: 1.960   noise: 0.000\n",
      "Iter 900/900 - Loss: -0.156   lengthscale: 2.967 variance: 1.956   noise: 0.000\n"
     ]
    }
   ],
   "source": [
    "# Regression with euclidean kernel\n",
    "\n",
    "likelihood = gpytorch.likelihoods.GaussianLikelihood()\n",
    "euclidean_kernel = gpytorch.kernels.ScaleKernel(gpytorch.kernels.RBFKernel())\n",
    "euclidean_model = ExactGPModel(train_x, train_y, likelihood, euclidean_kernel, space).to(device=device)\n",
    "train(euclidean_model, train_x, train_y, 900, 300)"
   ],
   "metadata": {
    "collapsed": false,
    "pycharm": {
     "name": "#%%\n"
    }
   }
  },
  {
   "cell_type": "code",
   "execution_count": 10,
   "outputs": [
    {
     "name": "stdout",
     "output_type": "stream",
     "text": [
      "euclidean error: tensor(0.0042, dtype=torch.float64)\n",
      "data variance: tensor(0.3996, device='cuda:0', dtype=torch.float64)\n"
     ]
    }
   ],
   "source": [
    "euclidean_model.eval()\n",
    "with torch.no_grad(), gpytorch.settings.skip_posterior_variances(state=True):\n",
    "    euclidean_f = euclidean_model(test_x)\n",
    "euclidean_pred_y = euclidean_f.mean\n",
    "euclidean_error = MSELoss()(euclidean_pred_y, test_y)\n",
    "print(\"euclidean error:\", euclidean_error.detach().cpu())\n",
    "print(\"data variance:\", torch.var(test_y))"
   ],
   "metadata": {
    "collapsed": false,
    "pycharm": {
     "name": "#%%\n"
    }
   }
  }
 ],
 "metadata": {
  "kernelspec": {
   "display_name": "Python 3",
   "language": "python",
   "name": "python3"
  },
  "language_info": {
   "codemirror_mode": {
    "name": "ipython",
    "version": 2
   },
   "file_extension": ".py",
   "mimetype": "text/x-python",
   "name": "python",
   "nbconvert_exporter": "python",
   "pygments_lexer": "ipython2",
   "version": "2.7.6"
  }
 },
 "nbformat": 4,
 "nbformat_minor": 0
}