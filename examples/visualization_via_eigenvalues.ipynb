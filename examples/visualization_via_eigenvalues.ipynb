{
 "cells": [
  {
   "cell_type": "code",
   "execution_count": null,
   "metadata": {
    "collapsed": true
   },
   "outputs": [],
   "source": [
    "import unittest\n",
    "import torch\n",
    "#from functorch import vmap\n",
    "from torch.autograd.functional import _vmap as vmap\n",
    "import numpy as np\n",
    "from src.spaces.so import SO\n",
    "from src.spectral_kernel import EigenbasisSumKernel, EigenbasisKernel\n",
    "from src.spectral_measure import SqExpSpectralMeasure, MaternSpectralMeasure\n",
    "from src.prior_approximation import RandomPhaseApproximation\n",
    "from src.utils import cartesian_prod\n",
    "\n",
    "dtype = torch.float64\n",
    "device = 'cuda' if torch.cuda.is_available() else 'cpu'\n",
    "\n"
   ]
  },
  {
   "cell_type": "code",
   "execution_count": null,
   "outputs": [],
   "source": [
    "n, order = 5, 10\n",
    "space = SO(n=n, order=order)\n",
    "\n",
    "lengthscale, nu = 1.1, 5.0\n",
    "measure = SqExpSpectralMeasure(space.dim, lengthscale)\n",
    "#self.measure = MaternSpectralMeasure(self.space.dim, self.lengthscale, self.nu)\n",
    "\n",
    "so_kernel = EigenbasisSumKernel(measure=measure, manifold=space)\n",
    "sampler = RandomPhaseApproximation(kernel=so_kernel, phase_order=10**4)"
   ],
   "metadata": {
    "collapsed": false,
    "pycharm": {
     "name": "#%%\n"
    }
   }
  },
  {
   "cell_type": "code",
   "execution_count": null,
   "outputs": [],
   "source": [],
   "metadata": {
    "collapsed": false,
    "pycharm": {
     "name": "#%%\n"
    }
   }
  }
 ],
 "metadata": {
  "kernelspec": {
   "display_name": "Python 3",
   "language": "python",
   "name": "python3"
  },
  "language_info": {
   "codemirror_mode": {
    "name": "ipython",
    "version": 2
   },
   "file_extension": ".py",
   "mimetype": "text/x-python",
   "name": "python",
   "nbconvert_exporter": "python",
   "pygments_lexer": "ipython2",
   "version": "2.7.6"
  }
 },
 "nbformat": 4,
 "nbformat_minor": 0
}