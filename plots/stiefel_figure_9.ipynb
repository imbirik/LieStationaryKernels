{
  "cells": [
    {
      "cell_type": "code",
      "source": [
        "from IPython.display import clear_output\n",
        "from google.colab import drive\n",
        "drive.mount('/content/gdrive')\n",
        "results_path = '/content/gdrive/MyDrive/LieStationaryKernel_plots/'"
      ],
      "metadata": {
        "id": "4AslfwcxH_4F"
      },
      "execution_count": null,
      "outputs": []
    },
    {
      "cell_type": "code",
      "execution_count": null,
      "metadata": {
        "id": "putNR03cCNM4"
      },
      "outputs": [],
      "source": [
        "!pip install git+https://github.com/imbirik/LieStationaryKernels.git\n",
        "!pip install backends\n",
        "!pip install git+https://github.com/vdutor/SphericalHarmonics.git\n",
        "clear_output()"
      ]
    },
    {
      "cell_type": "code",
      "execution_count": null,
      "metadata": {
        "id": "UhJA6k5oERi8"
      },
      "outputs": [],
      "source": [
        "import sys\n",
        "import itertools\n",
        "import torch\n",
        "import gc\n",
        "import matplotlib.pyplot as plt\n",
        "import random\n",
        "import seaborn as sns\n",
        "from torch.autograd.functional import _vmap as vmap\n",
        "import numpy as np\n",
        "import pandas as pd\n",
        "from tqdm import tqdm_notebook as tqdm\n",
        "from math import sqrt\n",
        "from collections import defaultdict\n",
        "from itertools import islice\n",
        "from lie_stationary_kernels.spectral_kernel import EigenbasisSumKernel\n",
        "from lie_stationary_kernels.spectral_measure import SqExpSpectralMeasure, MaternSpectralMeasure\n",
        "from lie_stationary_kernels.prior_approximation import RandomPhaseApproximation\n",
        "\n",
        "from lie_stationary_kernels.space import TranslatedCharactersBasis\n",
        "\n",
        "from lie_stationary_kernels.spaces import SO, SU, Stiefel\n",
        "from lie_stationary_kernels.spaces.sphere import Sphere\n",
        "\n",
        "device = 'cuda' if torch.cuda.is_available() else 'cpu'\n",
        "\n",
        "torch.set_printoptions(precision=6, sci_mode=False, linewidth=160, edgeitems=15)\n",
        "dtype = torch.float64\n",
        "\n",
        "print(device)"
      ]
    },
    {
      "cell_type": "code",
      "execution_count": null,
      "metadata": {
        "id": "H6GFwVczHGcw"
      },
      "outputs": [],
      "source": [
        "!cp '/content/gdrive/MyDrive/precomputed_characters.json' '/usr/local/lib/python3.10/dist-packages/lie_stationary_kernels/spaces/precomputed_characters.json'"
      ]
    },
    {
      "cell_type": "code",
      "execution_count": null,
      "metadata": {
        "id": "vGsYmoRLEuRz"
      },
      "outputs": [],
      "source": [
        "# auxilarly functions\n",
        "def compute_l2_diff(x, y):\n",
        "        return torch.pow(torch.mean(torch.pow(x-y, 2)), 0.5)\n",
        "\n",
        "def raw_character(chi, average_order, gammas_x_h):\n",
        "        chi_x_h = chi(gammas_x_h).reshape(-1, average_order)\n",
        "        return chi_x_h\n",
        "\n",
        "def get_order(n):\n",
        "  new_order = [0]\n",
        "  for i in range(2, n+1):\n",
        "    for j in range(1,i):\n",
        "        new_order.append(i+n*(j-1)-1)\n",
        "    for j in range(0, i):\n",
        "        new_order.append((i-1)*n + j)\n",
        "  return new_order\n",
        "\n",
        "def pairwise_embed(self, x, y):\n",
        "        \"\"\"For arrays of form x_iH, y_jH computes embedding corresponding to x_i, y_j\n",
        "        i.e. flattened array of form G.embed(h_m^{-1}x_i^{-1}y_jh_k)\"\"\"\n",
        "        x_y_ = self.pairwise_diff(x, y)\n",
        "        embed = self.g.pairwise_embed(self.g.inv(self.g.pairwise_diff(self.g.inv(x_y_), self.h_samples)), self.h_samples)\n",
        "\n",
        "        embed = embed.reshape(len(x)*len(y), self.average_order*self.average_order, -1)[:, get_order(self.average_order), :].reshape(-1, embed.shape[-1])\n",
        "\n",
        "        return embed"
      ]
    },
    {
      "cell_type": "code",
      "execution_count": null,
      "metadata": {
        "id": "Abryf0FwVHtI"
      },
      "outputs": [],
      "source": [
        "def stiefel_kernel_approx_error(measure_class, measure_kwargs, measure_name, manifold_class, manifold_kwargs, manifold_name):\n",
        "        num_tries = 20\n",
        "        all_errors = []\n",
        "        for i in tqdm(range(num_tries)):\n",
        "\n",
        "                torch.manual_seed(i)\n",
        "                np.random.seed(i)\n",
        "                random.seed(i)\n",
        "\n",
        "                average_order_ = 150\n",
        "                average_order = average_order_ ** 2\n",
        "                manifold = manifold_class(average_order=average_order_, **manifold_kwargs)\n",
        "                dim = manifold.dim\n",
        "                measure = measure_class(dim, **measure_kwargs)\n",
        "                space_kernel = EigenbasisSumKernel(measure=measure, manifold=manifold)\n",
        "\n",
        "                x = manifold.rand(20)\n",
        "                y = x\n",
        "                x_y_embed = pairwise_embed(manifold, x, y)\n",
        "                values = [torch.zeros(len(x), len(y), dtype=dtype, device=device) for _ in range(average_order)]\n",
        "\n",
        "                for eigenspace in tqdm(manifold.lb_eigenspaces):\n",
        "                        lmd = eigenspace.lb_eigenvalue\n",
        "                        f = eigenspace.phase_function.chi\n",
        "                        chis_x_y_h = raw_character(f, average_order, x_y_embed)\n",
        "\n",
        "                        for i in range(average_order-1):\n",
        "                                f_x_y = torch.mean(chis_x_y_h[:, :i+1], dim=-1)\n",
        "                                values[i+1] += measure(lmd) * f_x_y.view(x.size()[0], y.size()[0]).real/space_kernel.normalizer\n",
        "                errors = []\n",
        "                for i in range(average_order):\n",
        "                        errors.append(compute_l2_diff(values[-1], values[i]).detach().cpu().numpy())\n",
        "\n",
        "                all_errors.append(errors)\n",
        "        all_errors = np.array(all_errors)\n",
        "        pd.DataFrame(data=all_errors).to_csv(results_path + f'{manifold_name}_{measure_name}_2.csv')\n",
        "        mean_error = np.mean(all_errors, axis=0)\n",
        "        quantile_error_25 = np.quantile(all_errors, 0.25, axis=0)\n",
        "        quantile_error_75 = np.quantile(all_errors, 0.75, axis=0)\n",
        "\n",
        "        plt.plot(mean_error[:1500], c='blue', label='mean')\n",
        "        plt.plot(quantile_error_25[:1500], c='red', label='q25')\n",
        "        plt.plot(quantile_error_75[:1500], c='green', label='q75')\n",
        "        plt.legend()\n",
        "        plt.savefig(results_path + f'{manifold_name}_{measure_name}_2.pdf')\n",
        "        plt.show()"
      ]
    },
    {
      "cell_type": "code",
      "execution_count": null,
      "metadata": {
        "id": "twGtC1whVnPh"
      },
      "outputs": [],
      "source": [
        "torch.cuda.empty_cache()\n",
        "gc.collect()\n",
        "\n",
        "measures = [\n",
        "    (MaternSpectralMeasure, {'lengthscale': 0.4, 'nu': 0.5}, 'matern12'),\n",
        "    (MaternSpectralMeasure, {'lengthscale': 0.6, 'nu': 1.5}, 'matern32'),\n",
        "    (MaternSpectralMeasure, {'lengthscale': 0.7, 'nu': 2.5}, 'matern52'),\n",
        "    (SqExpSpectralMeasure, {'lengthscale': 0.95}, 'heat')]\n",
        "\n",
        "groups = [(Stiefel, {'n': 5, 'm':2, 'order': 20}, 'stiefel52'), (Stiefel, {'n': 5, 'm':3, 'order': 20}, 'stiefel53')]\n",
        "\n",
        "for measure in measures:\n",
        "  for group in groups:\n",
        "    print(measure, group)\n",
        "    stiefel_kernel_approx_error(measure[0], measure[1], measure[2], group[0], group[1], group[2])\n",
        "    torch.cuda.empty_cache()\n",
        "    gc.collect()\n"
      ]
    },
    {
      "cell_type": "code",
      "execution_count": null,
      "metadata": {
        "id": "xedd38pKE6LU"
      },
      "outputs": [],
      "source": [
        "def sphere_kernel_approx_error(measure_class, measure_kwargs, measure_name, manifold_class, manifold_kwargs, manifold_name):\n",
        "        num_tries = 20\n",
        "        all_errors = []\n",
        "        for i in tqdm(range(num_tries)):\n",
        "                torch.manual_seed(i)\n",
        "                np.random.seed(i)\n",
        "                random.seed(i)\n",
        "\n",
        "                average_order_ = 150\n",
        "                average_order = average_order_ ** 2\n",
        "                manifold = manifold_class(average_order=average_order_, **manifold_kwargs)\n",
        "                dim = manifold.dim\n",
        "                measure = measure_class(dim, **measure_kwargs)\n",
        "                space_kernel = EigenbasisSumKernel(measure=measure, manifold=manifold)\n",
        "\n",
        "                x = manifold.rand(20)\n",
        "                y = x\n",
        "                x_y_embed = pairwise_embed(manifold, x, y)\n",
        "                values = [torch.zeros(len(x), len(y), dtype=dtype, device=device) for _ in range(average_order)]\n",
        "\n",
        "                n = manifold.n\n",
        "                sphere = Sphere(n=n-1, order=10)\n",
        "\n",
        "                sphere_kernel = EigenbasisSumKernel(measure=measure, manifold=sphere)\n",
        "                cov = sphere_kernel(x.reshape(-1,n), y.reshape(-1,n))\n",
        "                if n > 3:\n",
        "                  lb_eigenspaces = [eig for eig in manifold.lb_eigenspaces if eig.index[1] == 0][:10]\n",
        "                else:\n",
        "                  lb_eigenspaces = manifold.lb_eigenspaces[:10]\n",
        "                for eigenspace in tqdm(lb_eigenspaces):\n",
        "                        lmd = eigenspace.lb_eigenvalue\n",
        "                        f = eigenspace.phase_function.chi\n",
        "                        full_result = raw_character(f, average_order, x_y_embed)\n",
        "                        for i in range(average_order-1):\n",
        "                                f_x_y = torch.mean(full_result[:, :i+1], dim=-1)\n",
        "                                values[i+1] += measure(lmd) * f_x_y.view(x.size()[0], y.size()[0]).real / sphere_kernel.normalizer\n",
        "                errors = []\n",
        "                for i in range(average_order):\n",
        "                        errors.append(compute_l2_diff(cov, values[i]).detach().cpu().numpy())\n",
        "                all_errors.append(errors)\n",
        "        all_errors = np.array(all_errors)\n",
        "        pd.DataFrame(data=all_errors).to_csv(results_path + f'{manifold_name}_{measure_name}_2.csv')\n",
        "\n",
        "        mean_error = np.mean(all_errors, axis=0)\n",
        "        quantile_error_25 = np.quantile(all_errors, 0.25, axis=0)\n",
        "        quantile_error_75 = np.quantile(all_errors, 0.75, axis=0)\n",
        "\n",
        "        plt.plot(mean_error[100:2500], c='blue', label='mean')\n",
        "        plt.plot(quantile_error_25[100:2500], c='red', label='q25')\n",
        "        plt.plot(quantile_error_75[100:2500], c='green', label='q75')\n",
        "        plt.legend()\n",
        "        plt.savefig(results_path + f'{manifold_name}_{measure_name}_2.pdf')\n",
        "        plt.show()"
      ]
    },
    {
      "cell_type": "code",
      "execution_count": null,
      "metadata": {
        "id": "PYQ2sMutGGTO"
      },
      "outputs": [],
      "source": [
        "torch.cuda.empty_cache()\n",
        "gc.collect()\n",
        "\n",
        "measures = [\n",
        "    (MaternSpectralMeasure, {'lengthscale': 0.4, 'nu': 0.5}, 'matern12'),\n",
        "    (MaternSpectralMeasure, {'lengthscale': 0.6, 'nu': 1.5}, 'matern32'),\n",
        "    (MaternSpectralMeasure, {'lengthscale': 0.7, 'nu': 2.5}, 'matern52'),\n",
        "    (SqExpSpectralMeasure, {'lengthscale': 0.95}, 'heat')]\n",
        "\n",
        "groups = [(Stiefel, {'n': 5, 'm':1, 'order': 100}, 'stiefel51'), (Stiefel, {'n': 3, 'm':1, 'order': 100}, 'stiefel31')]\n",
        "\n",
        "for measure in measures:\n",
        "  for group in groups:\n",
        "    print(measure, group)\n",
        "    sphere_kernel_approx_error(measure[0], measure[1], measure[2], group[0], group[1], group[2])\n",
        "    torch.cuda.empty_cache()\n",
        "    gc.collect()"
      ]
    }
  ],
  "metadata": {
    "accelerator": "GPU",
    "colab": {
      "provenance": [],
      "gpuType": "T4"
    },
    "kernelspec": {
      "display_name": "Python 3",
      "name": "python3"
    },
    "language_info": {
      "name": "python"
    }
  },
  "nbformat": 4,
  "nbformat_minor": 0
}
