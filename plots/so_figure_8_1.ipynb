{
  "cells": [
    {
      "cell_type": "code",
      "execution_count": null,
      "metadata": {
        "id": "fel4DEjLE5bM"
      },
      "outputs": [],
      "source": [
        "from IPython.display import clear_output\n",
        "from google.colab import drive\n",
        "drive.mount('/content/gdrive')\n",
        "results_path = '/content/gdrive/MyDrive/LieStationaryKernel_plots/'"
      ]
    },
    {
      "cell_type": "code",
      "execution_count": null,
      "metadata": {
        "id": "putNR03cCNM4"
      },
      "outputs": [],
      "source": [
        "!pip install git+https://github.com/imbirik/LieStationaryKernels.git\n",
        "!pip install backends\n",
        "!pip install git+https://github.com/vdutor/SphericalHarmonics.git\n",
        "clear_output()"
      ]
    },
    {
      "cell_type": "code",
      "execution_count": null,
      "metadata": {
        "id": "UhJA6k5oERi8"
      },
      "outputs": [],
      "source": [
        "import sys\n",
        "import itertools\n",
        "import torch\n",
        "import gc\n",
        "import matplotlib.pyplot as plt\n",
        "import random\n",
        "import seaborn as sns\n",
        "from torch.autograd.functional import _vmap as vmap\n",
        "import numpy as np\n",
        "import pandas as pd\n",
        "from tqdm import tqdm_notebook as tqdm\n",
        "from math import sqrt\n",
        "from collections import defaultdict\n",
        "from itertools import islice\n",
        "from lie_stationary_kernels.spectral_kernel import EigenbasisSumKernel\n",
        "from lie_stationary_kernels.spectral_measure import SqExpSpectralMeasure, MaternSpectralMeasure\n",
        "from lie_stationary_kernels.prior_approximation import RandomPhaseApproximation\n",
        "\n",
        "from lie_stationary_kernels.space import TranslatedCharactersBasis\n",
        "\n",
        "from lie_stationary_kernels.spaces import SO, SU, Stiefel\n",
        "from lie_stationary_kernels.spaces.sphere import Sphere\n",
        "\n",
        "device = 'cuda' if torch.cuda.is_available() else 'cpu'\n",
        "\n",
        "torch.set_printoptions(precision=6, sci_mode=False, linewidth=160, edgeitems=15)\n",
        "dtype = torch.float64"
      ]
    },
    {
      "cell_type": "code",
      "execution_count": null,
      "metadata": {
        "id": "H6GFwVczHGcw"
      },
      "outputs": [],
      "source": [
        "!cp '/content/gdrive/MyDrive/precomputed_characters.json' '/usr/local/lib/python3.10/dist-packages/lie_stationary_kernels/spaces/precomputed_characters.json'"
      ]
    },
    {
      "cell_type": "code",
      "execution_count": null,
      "metadata": {
        "id": "vGsYmoRLEuRz"
      },
      "outputs": [],
      "source": [
        "# auxilarly functions\n",
        "def compute_l2_diff(x, y):\n",
        "        return torch.pow(torch.mean(torch.pow(x-y, 2)), 0.5)\n"
      ]
    },
    {
      "cell_type": "code",
      "execution_count": null,
      "metadata": {
        "id": "Abryf0FwVHtI"
      },
      "outputs": [],
      "source": [
        "def plot_approx_error(measure_class, measure_kwargs, measure_name, manifold_class, manifold_kwargs, manifold_name):\n",
        "        manifold = manifold_class(**manifold_kwargs)\n",
        "        dim = manifold.dim\n",
        "        measure = measure_class(dim, **measure_kwargs)\n",
        "\n",
        "        so_lb_eigenspaces = manifold.lb_eigenspaces\n",
        "        res = [0]\n",
        "        vals = defaultdict(list)\n",
        "        val_at_e = 0\n",
        "        for id_, lb_eigspace in enumerate(so_lb_eigenspaces):\n",
        "                dim = lb_eigspace.dimension\n",
        "                val = lb_eigspace.lb_eigenvalue\n",
        "                x = measure(val).detach().cpu().numpy()[0]\n",
        "                val_at_e += x*dim\n",
        "                res.append(res[-1] + (x ** 2) * dim * dim)\n",
        "        error = [np.log(np.sqrt((res[-1] - x))/val_at_e) for x in res[:1000]]\n",
        "        print(manifold_name, measure_name, (res[-1] - res[20])/res[-1])\n",
        "        pd.DataFrame( error).to_csv(results_path + f'{manifold_name}_{measure_name}_1.csv')\n",
        "        plt.plot(error, label = manifold_name + \"_\" + measure_name)\n"
      ]
    },
    {
      "cell_type": "code",
      "execution_count": null,
      "metadata": {
        "id": "Ns2Jua3E6IO2"
      },
      "outputs": [],
      "source": [
        "import gc\n",
        "torch.cuda.empty_cache()\n",
        "gc.collect()\n",
        "\n",
        "measures = [\n",
        "    (MaternSpectralMeasure, {'lengthscale': 0.5, 'nu': 0.5}, 'matern12'),\n",
        "     (MaternSpectralMeasure, {'lengthscale': 0.6, 'nu': 1.5}, 'matern32'),\n",
        "    (MaternSpectralMeasure, {'lengthscale': 0.7, 'nu': 2.5}, 'matern52'),\n",
        "    (SqExpSpectralMeasure, {'lengthscale': 0.95}, 'heat')]\n",
        "\n",
        "groups = [\n",
        "    (SO, {'n': 3, 'order': 1000}, 'so3'),\n",
        "    (SO, {'n': 5, 'order': 1000}, 'so5')]\n",
        "\n",
        "for group in groups:\n",
        "  for measure in measures:\n",
        "    print(measure)\n",
        "    plot_approx_error(measure[0], measure[1], measure[2], group[0], group[1], group[2])\n",
        "    torch.cuda.empty_cache()\n",
        "    gc.collect()\n",
        "  plt.legend()\n",
        "  plt.savefig(results_path + f'{group[2]}_1.pdf')\n",
        "  plt.show()"
      ]
    }
  ],
  "metadata": {
    "accelerator": "GPU",
    "colab": {
      "provenance": []
    },
    "kernelspec": {
      "display_name": "Python 3",
      "name": "python3"
    },
    "language_info": {
      "name": "python"
    }
  },
  "nbformat": 4,
  "nbformat_minor": 0
}