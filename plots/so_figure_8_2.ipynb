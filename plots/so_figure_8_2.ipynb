{
  "cells": [
    {
      "cell_type": "code",
      "execution_count": null,
      "metadata": {
        "id": "fel4DEjLE5bM"
      },
      "outputs": [],
      "source": [
        "from IPython.display import clear_output\n",
        "from google.colab import drive\n",
        "drive.mount('/content/gdrive')\n",
        "results_path = '/content/gdrive/MyDrive/LieStationaryKernel_plots/'"
      ]
    },
    {
      "cell_type": "code",
      "execution_count": null,
      "metadata": {
        "id": "putNR03cCNM4"
      },
      "outputs": [],
      "source": [
        "!pip install git+https://github.com/imbirik/LieStationaryKernels.git\n",
        "!pip install backends\n",
        "!pip install git+https://github.com/vdutor/SphericalHarmonics.git\n",
        "clear_output()"
      ]
    },
    {
      "cell_type": "code",
      "execution_count": null,
      "metadata": {
        "id": "UhJA6k5oERi8"
      },
      "outputs": [],
      "source": [
        "import sys\n",
        "import itertools\n",
        "import torch\n",
        "import gc\n",
        "import matplotlib.pyplot as plt\n",
        "import random\n",
        "import seaborn as sns\n",
        "from torch.autograd.functional import _vmap as vmap\n",
        "import numpy as np\n",
        "import pandas as pd\n",
        "from tqdm import tqdm_notebook as tqdm\n",
        "from math import sqrt\n",
        "from collections import defaultdict\n",
        "from itertools import islice\n",
        "from lie_stationary_kernels.spectral_kernel import EigenbasisSumKernel\n",
        "from lie_stationary_kernels.spectral_measure import SqExpSpectralMeasure, MaternSpectralMeasure\n",
        "from lie_stationary_kernels.prior_approximation import RandomPhaseApproximation\n",
        "\n",
        "from lie_stationary_kernels.space import TranslatedCharactersBasis\n",
        "\n",
        "from lie_stationary_kernels.spaces import SO, SU, Stiefel\n",
        "from lie_stationary_kernels.spaces.sphere import Sphere\n",
        "\n",
        "device = 'cuda' if torch.cuda.is_available() else 'cpu'\n",
        "\n",
        "torch.set_printoptions(precision=6, sci_mode=False, linewidth=160, edgeitems=15)\n",
        "dtype = torch.float64"
      ]
    },
    {
      "cell_type": "code",
      "execution_count": null,
      "metadata": {
        "id": "H6GFwVczHGcw"
      },
      "outputs": [],
      "source": [
        "!cp '/content/gdrive/MyDrive/precomputed_characters.json' '/usr/local/lib/python3.10/dist-packages/lie_stationary_kernels/spaces/precomputed_characters.json'"
      ]
    },
    {
      "cell_type": "code",
      "execution_count": null,
      "metadata": {
        "id": "vGsYmoRLEuRz"
      },
      "outputs": [],
      "source": [
        "# auxilarly functions\n",
        "def compute_l2_diff(x, y):\n",
        "        return torch.pow(torch.mean(torch.pow(x-y, 2)), 0.5)\n",
        "\n",
        "def make_raw_embedding(self, x):\n",
        "        embeddings = []\n",
        "        phases = self.phases  # [num_phase, ...]\n",
        "        # left multiplication\n",
        "        phase_x_inv = self.kernel.manifold.pairwise_embed(phases, x)  # [len(x), num_phase, ...]\n",
        "        for i, eigenspace in enumerate(islice(self.kernel.manifold.lb_eigenspaces, self.approx_order)):\n",
        "            lmd = eigenspace.lb_eigenvalue\n",
        "            f = eigenspace.phase_function\n",
        "            eigen_embedding = f(phase_x_inv).real.view(self.phase_order, x.size()[0]).T/eigenspace.dimension\n",
        "            embeddings.append(eigen_embedding)\n",
        "        return embeddings"
      ]
    },
    {
      "cell_type": "code",
      "execution_count": null,
      "metadata": {
        "id": "Abryf0FwVHtI"
      },
      "outputs": [],
      "source": [
        "def plot_sampler_error_normalized(measure_class, measure_kwargs, measure_name, manifold_class, manifold_kwargs, manifold_name):\n",
        "      sampled_errors = []\n",
        "      for i in tqdm(range(20)):\n",
        "        phase_order = 10 ** 4\n",
        "        manifold = manifold_class(**manifold_kwargs)\n",
        "        dim = manifold.dim\n",
        "        measure = measure_class(dim,**measure_kwargs)\n",
        "\n",
        "        kernel = EigenbasisSumKernel(measure=measure, manifold=manifold)\n",
        "        sampler = RandomPhaseApproximation(kernel=kernel, phase_order=phase_order)\n",
        "        x = manifold.rand(50)\n",
        "        y = x\n",
        "        x_y = manifold.pairwise_embed(x, y)\n",
        "        embedding_x = make_raw_embedding(sampler, x)\n",
        "        embedding_y = make_raw_embedding(sampler, y)\n",
        "\n",
        "        cov_x_y = kernel(x, y)\n",
        "        values = [torch.zeros_like(cov_x_y) for _ in range(phase_order+1)]\n",
        "\n",
        "        for j in tqdm(range(phase_order)):\n",
        "                for i, eigenspace in enumerate(manifold.lb_eigenspaces):\n",
        "                        cov = (embedding_x[i][:, :j+1] @  torch.conj(embedding_y[i][:, :j+1].T) / (j+1)).real\n",
        "                        diag = torch.sqrt(torch.diagonal(cov))\n",
        "                        cov = cov/diag[:,None]/diag[None,:] * (eigenspace.dimension * eigenspace.dimension * kernel.measure(eigenspace.lb_eigenvalue)/kernel.normalizer).real\n",
        "                        values[j+1] += cov.clone()\n",
        "        errors = [None for _ in range(phase_order)]\n",
        "        for j in range(phase_order):\n",
        "            errors[j] = compute_l2_diff(cov_x_y, values[j]).item()\n",
        "        sampled_errors.append(errors)\n",
        "\n",
        "      sampled_errors = np.array(sampled_errors)\n",
        "      pd.DataFrame(data=sampled_errors).to_csv(results_path + f'{manifold_name}_{measure_name}_3_normalized.csv')\n",
        "\n",
        "      mean_error = np.mean(sampled_errors, axis=0)\n",
        "      quantile_error_25 = np.quantile(sampled_errors, 0.25, axis=0)\n",
        "      quantile_error_75 = np.quantile(sampled_errors, 0.75, axis=0)\n",
        "\n",
        "      plt.plot(list(range(phase_order))[:10**4], mean_error[:10**4], c='blue', label='mean')\n",
        "      plt.plot(list(range(phase_order))[:10**4], quantile_error_25[:10**4], c='red', label='q25')\n",
        "      plt.plot(list(range(phase_order))[:10**4], quantile_error_75[:10**4], c='green', label='q75')\n",
        "\n",
        "      plt.axhline(0)\n",
        "      plt.savefig(results_path + f'{manifold_name}_{measure_name}_3_normalized.pdf')\n",
        "\n",
        "      plt.show()"
      ]
    },
    {
      "cell_type": "code",
      "execution_count": null,
      "metadata": {
        "id": "Ns2Jua3E6IO2"
      },
      "outputs": [],
      "source": [
        "import gc\n",
        "torch.cuda.empty_cache()\n",
        "gc.collect()\n",
        "\n",
        "measures = [\n",
        "    (MaternSpectralMeasure, {'lengthscale': 0.5, 'nu': 0.5}, 'matern12'),\n",
        "    (MaternSpectralMeasure, {'lengthscale': 0.6, 'nu': 1.5}, 'matern32'),\n",
        "    (MaternSpectralMeasure, {'lengthscale': 0.7, 'nu': 2.5}, 'matern52'),\n",
        "    (SqExpSpectralMeasure, {'lengthscale': 0.95}, 'heat')\n",
        "    ]\n",
        "\n",
        "groups = [\n",
        "    (SO, {'n': 3, 'order': 20}, 'so3'),\n",
        "    (SO, {'n': 5, 'order': 20}, 'so5')]\n",
        "\n",
        "for group in groups:\n",
        "  for measure in measures:\n",
        "    print(measure)\n",
        "    plot_sampler_error_normalized(measure[0], measure[1], measure[2], group[0], group[1], group[2])\n",
        "    torch.cuda.empty_cache()\n",
        "    gc.collect()"
      ]
    },
    {
      "cell_type": "code",
      "execution_count": null,
      "metadata": {
        "id": "B_0b3Ldr1GSs"
      },
      "outputs": [],
      "source": [
        "def plot_sampler_error(measure_class, measure_kwargs, measure_name, manifold_class, manifold_kwargs, manifold_name):\n",
        "      sampled_errors = []\n",
        "      for i in tqdm(range(20)):\n",
        "        phase_order = 10 ** 4\n",
        "        manifold = manifold_class(**manifold_kwargs)\n",
        "        dim = manifold.dim\n",
        "        measure = measure_class(dim,**measure_kwargs)\n",
        "\n",
        "        kernel = EigenbasisSumKernel(measure=measure, manifold=manifold)\n",
        "        sampler = RandomPhaseApproximation(kernel=kernel, phase_order=phase_order)\n",
        "        x = manifold.rand(50)\n",
        "        y = x\n",
        "        x_y = manifold.pairwise_embed(x, y)\n",
        "        embedding_x = make_raw_embedding(sampler, x)\n",
        "        embedding_y = make_raw_embedding(sampler, y)\n",
        "\n",
        "        cov_x_y = kernel(x, y)\n",
        "        values = [torch.zeros_like(cov_x_y) for _ in range(phase_order+1)]\n",
        "\n",
        "        for j in tqdm(range(phase_order)):\n",
        "                for i, eigenspace in enumerate(manifold.lb_eigenspaces):\n",
        "                        cov = (embedding_x[i][:, :j+1] @  torch.conj(embedding_y[i][:, :j+1].T) / (j+1)).real\n",
        "                        cov = cov * (eigenspace.dimension * eigenspace.dimension * kernel.measure(eigenspace.lb_eigenvalue)/kernel.normalizer).real\n",
        "                        values[j+1] += cov.clone()\n",
        "        errors = [None for _ in range(phase_order)]\n",
        "        for j in range(phase_order):\n",
        "            errors[j] = compute_l2_diff(cov_x_y, values[j]).item()\n",
        "        sampled_errors.append(errors)\n",
        "\n",
        "      sampled_errors = np.array(sampled_errors)\n",
        "      pd.DataFrame(data=sampled_errors).to_csv(results_path + f'{manifold_name}_{measure_name}_3.csv')\n",
        "\n",
        "      mean_error = np.mean(sampled_errors, axis=0)\n",
        "      quantile_error_25 = np.quantile(sampled_errors, 0.25, axis=0)\n",
        "      quantile_error_75 = np.quantile(sampled_errors, 0.75, axis=0)\n",
        "\n",
        "      plt.plot(list(range(phase_order))[:10**4], mean_error[:10**4], c='blue', label='mean')\n",
        "      plt.plot(list(range(phase_order))[:10**4], quantile_error_25[:10**4], c='red', label='q25')\n",
        "      plt.plot(list(range(phase_order))[:10**4], quantile_error_75[:10**4], c='green', label='q75')\n",
        "\n",
        "      plt.axhline(0)\n",
        "      plt.savefig(results_path + f'{manifold_name}_{measure_name}_3.pdf')\n",
        "\n",
        "      plt.show()"
      ]
    },
    {
      "cell_type": "code",
      "execution_count": null,
      "metadata": {
        "id": "0F-Ng8Fo1pG8"
      },
      "outputs": [],
      "source": [
        "import gc\n",
        "torch.cuda.empty_cache()\n",
        "gc.collect()\n",
        "\n",
        "measures = [\n",
        "    (MaternSpectralMeasure, {'lengthscale': 0.5, 'nu': 0.5}, 'matern12'),\n",
        "    (MaternSpectralMeasure, {'lengthscale': 0.6, 'nu': 1.5}, 'matern32'),\n",
        "    (MaternSpectralMeasure, {'lengthscale': 0.7, 'nu': 2.5}, 'matern52'),\n",
        "    (SqExpSpectralMeasure, {'lengthscale': 0.95}, 'heat')\n",
        "    ]\n",
        "\n",
        "groups = [\n",
        "    (SO, {'n': 3, 'order': 20}, 'so3'),\n",
        "    (SO, {'n': 5, 'order': 20}, 'so5')]\n",
        "\n",
        "for group in groups:\n",
        "  for measure in measures:\n",
        "    print(measure)\n",
        "    plot_sampler_error(measure[0], measure[1], measure[2], group[0], group[1], group[2])\n",
        "    torch.cuda.empty_cache()\n",
        "    gc.collect()"
      ]
    }
  ],
  "metadata": {
    "accelerator": "GPU",
    "colab": {
      "provenance": []
    },
    "kernelspec": {
      "display_name": "Python 3",
      "name": "python3"
    },
    "language_info": {
      "name": "python"
    }
  },
  "nbformat": 4,
  "nbformat_minor": 0
}